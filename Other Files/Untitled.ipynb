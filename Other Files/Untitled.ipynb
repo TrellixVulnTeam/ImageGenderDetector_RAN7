{
 "cells": [
  {
   "cell_type": "code",
   "execution_count": 1,
   "metadata": {},
   "outputs": [],
   "source": [
    "import numpy as np\n",
    "import matplotlib.pyplot as plt"
   ]
  },
  {
   "cell_type": "code",
   "execution_count": 28,
   "metadata": {},
   "outputs": [],
   "source": [
    "x1 = np.array([-1, 1, 3, 4, 6])\n",
    "y = np.array([-1, 1, -1, 1, 1])"
   ]
  },
  {
   "cell_type": "code",
   "execution_count": 29,
   "metadata": {},
   "outputs": [
    {
     "data": {
      "image/png": "[encoded data removed]",
      "text/plain": [
       "<Figure size 432x288 with 1 Axes>"
      ]
     },
     "metadata": {
      "needs_background": "light"
     },
     "output_type": "display_data"
    }
   ],
   "source": [
    "plt.scatter(x, y, c=y)\n",
    "plt.grid(True)"
   ]
  },
  {
   "cell_type": "code",
   "execution_count": 24,
   "metadata": {},
   "outputs": [
    {
     "data": {
      "image/png": "[encoded data removed]",
      "text/plain": [
       "<Figure size 432x288 with 1 Axes>"
      ]
     },
     "metadata": {
      "needs_background": "light"
     },
     "output_type": "display_data"
    }
   ],
   "source": [
    "J = []\n",
    "\n",
    "for tv in t:\n",
    "    z = x - tv\n",
    "    Jt = np.sum(np.maximum(0, 1-y*z))\n",
    "    J.append(Jt)\n",
    "\n",
    "J = np.array(J)\n",
    "plt.plot(t, J)\n",
    "plt.grid(True)"
   ]
  },
  {
   "cell_type": "code",
   "execution_count": 30,
   "metadata": {},
   "outputs": [
    {
     "data": {
      "text/plain": [
       "2"
      ]
     },
     "execution_count": 30,
     "metadata": {},
     "output_type": "execute_result"
    }
   ],
   "source": [
    "x = np.array([0, 0, 0, 0, 0, 0, 0, 0, 0, 1, 1, 1, 0, 0, 0, 0])\n",
    "w = np.array([0, 0, 0, 0, 0, 1, 1, 0, 0, 1, 1, 0, 0, 0, 0, 0])\n",
    "\n",
    "xdotw = np.dot(x, w)\n",
    "xdotw"
   ]
  },
  {
   "cell_type": "code",
   "execution_count": 31,
   "metadata": {},
   "outputs": [
    {
     "data": {
      "image/png": "[encoded data removed]",
      "text/plain": [
       "<Figure size 432x288 with 1 Axes>"
      ]
     },
     "metadata": {
      "needs_background": "light"
     },
     "output_type": "display_data"
    }
   ],
   "source": [
    "x1 = [0, 1, 0, 2]\n",
    "x2 = [0, 0, 2, 2]\n",
    "y = [1, -1, -1, 1]\n",
    "\n",
    "plt.scatter(x1, x2, c=y)\n",
    "plt.grid(True)"
   ]
  },
  {
   "cell_type": "code",
   "execution_count": null,
   "metadata": {},
   "outputs": [],
   "source": []
  },
  {
   "cell_type": "code",
   "execution_count": 8,
   "metadata": {},
   "outputs": [
    {
     "data": {
      "text/plain": [
       "([array([[1, 0, 0, 0],\n",
       "         [1, 0, 0, 0],\n",
       "         [1, 0, 0, 0],\n",
       "         [1, 0, 0, 0]]),\n",
       "  array([[0, 1, 0, 0],\n",
       "         [0, 1, 0, 0],\n",
       "         [0, 1, 0, 0],\n",
       "         [0, 1, 0, 0]]),\n",
       "  array([[0, 0, 1, 0],\n",
       "         [0, 0, 1, 0],\n",
       "         [0, 0, 1, 0],\n",
       "         [0, 0, 1, 0]])],\n",
       " array([[1. , 0. , 0. , 0. ],\n",
       "        [1. , 0. , 0. , 0. ],\n",
       "        [0.5, 0.5, 0. , 0. ],\n",
       "        [0. , 1. , 0. , 0. ]]))"
      ]
     },
     "execution_count": 8,
     "metadata": {},
     "output_type": "execute_result"
    }
   ],
   "source": [
    "Xi = []\n",
    "Xi.append(np.array([[1, 0, 0, 0], [1, 0, 0, 0], [1, 0, 0, 0], [1, 0, 0, 0]]))\n",
    "Xi.append(np.array([[0, 1, 0, 0], [0, 1, 0, 0], [0, 1, 0, 0], [0, 1, 0, 0]]))\n",
    "Xi.append(np.array([[0, 0, 1, 0], [0, 0, 1, 0], [0, 0, 1, 0], [0, 0, 1, 0]]))\n",
    "\n",
    "X = np.array([[1, 0, 0, 0], [1, 0, 0, 0], [0.5, 0.5, 0, 0], [0, 1, 0, 0]])\n",
    "\n",
    "Xi, X"
   ]
  },
  {
   "cell_type": "code",
   "execution_count": 11,
   "metadata": {},
   "outputs": [
    {
     "data": {
      "text/plain": [
       "([array([1, 0, 0, 0, 1, 0, 0, 0, 1, 0, 0, 0, 1, 0, 0, 0]),\n",
       "  array([0, 1, 0, 0, 0, 1, 0, 0, 0, 1, 0, 0, 0, 1, 0, 0]),\n",
       "  array([0, 0, 1, 0, 0, 0, 1, 0, 0, 0, 1, 0, 0, 0, 1, 0])],\n",
       " array([1. , 0. , 0. , 0. , 1. , 0. , 0. , 0. , 0.5, 0.5, 0. , 0. , 0. ,\n",
       "        1. , 0. , 0. ]))"
      ]
     },
     "execution_count": 11,
     "metadata": {},
     "output_type": "execute_result"
    }
   ],
   "source": [
    "xi_f = []\n",
    "for i in range(3):\n",
    "    xi_f.append(Xi[i].flatten())\n",
    "\n",
    "x_f = X.flatten()\n",
    "xi_f, x_f"
   ]
  },
  {
   "cell_type": "code",
   "execution_count": 20,
   "metadata": {},
   "outputs": [
    {
     "name": "stdout",
     "output_type": "stream",
     "text": [
      "2.5\n",
      "4.5\n",
      "7.5\n"
     ]
    }
   ],
   "source": [
    "dist = []\n",
    "for i in range(3):\n",
    "    d = (x_f-xi_f[i])**2\n",
    "    dist.append(np.sum(d, axis=0))\n",
    "    print(dist[i])"
   ]
  },
  {
   "cell_type": "code",
   "execution_count": 28,
   "metadata": {},
   "outputs": [
    {
     "ename": "TypeError",
     "evalue": "list indices must be integers or slices, not tuple",
     "output_type": "error",
     "traceback": [
      "\u001b[1;31m---------------------------------------------------------------------------\u001b[0m",
      "\u001b[1;31mTypeError\u001b[0m                                 Traceback (most recent call last)",
      "\u001b[1;32m<ipython-input-28-700451fb43f3>\u001b[0m in \u001b[0;36m<module>\u001b[1;34m\u001b[0m\n\u001b[0;32m     20\u001b[0m     \u001b[1;32mreturn\u001b[0m \u001b[0myhat\u001b[0m\u001b[1;33m\u001b[0m\u001b[1;33m\u001b[0m\u001b[0m\n\u001b[0;32m     21\u001b[0m \u001b[1;33m\u001b[0m\u001b[0m\n\u001b[1;32m---> 22\u001b[1;33m \u001b[0myhat\u001b[0m \u001b[1;33m=\u001b[0m \u001b[0mpredict\u001b[0m\u001b[1;33m(\u001b[0m\u001b[0mxi_f\u001b[0m\u001b[1;33m,\u001b[0m \u001b[0mytr\u001b[0m\u001b[1;33m,\u001b[0m \u001b[0mX\u001b[0m\u001b[1;33m,\u001b[0m \u001b[0malpha\u001b[0m\u001b[1;33m,\u001b[0m \u001b[0mb\u001b[0m\u001b[1;33m,\u001b[0m \u001b[0mg\u001b[0m\u001b[1;33m)\u001b[0m\u001b[1;33m\u001b[0m\u001b[1;33m\u001b[0m\u001b[0m\n\u001b[0m\u001b[0;32m     23\u001b[0m \u001b[0mprint\u001b[0m\u001b[1;33m(\u001b[0m\u001b[0myhat\u001b[0m\u001b[1;33m)\u001b[0m\u001b[1;33m\u001b[0m\u001b[1;33m\u001b[0m\u001b[0m\n",
      "\u001b[1;32m<ipython-input-28-700451fb43f3>\u001b[0m in \u001b[0;36mpredict\u001b[1;34m(Xtr, ytr, X, alpha, b, g)\u001b[0m\n\u001b[0;32m      8\u001b[0m \u001b[1;32mdef\u001b[0m \u001b[0mpredict\u001b[0m\u001b[1;33m(\u001b[0m\u001b[0mXtr\u001b[0m\u001b[1;33m,\u001b[0m \u001b[0mytr\u001b[0m\u001b[1;33m,\u001b[0m \u001b[0mX\u001b[0m\u001b[1;33m,\u001b[0m \u001b[0malpha\u001b[0m\u001b[1;33m,\u001b[0m \u001b[0mb\u001b[0m\u001b[1;33m,\u001b[0m \u001b[0mg\u001b[0m\u001b[1;33m)\u001b[0m\u001b[1;33m:\u001b[0m\u001b[1;33m\u001b[0m\u001b[1;33m\u001b[0m\u001b[0m\n\u001b[0;32m      9\u001b[0m     \u001b[1;31m# Compute Distances\u001b[0m\u001b[1;33m\u001b[0m\u001b[1;33m\u001b[0m\u001b[1;33m\u001b[0m\u001b[0m\n\u001b[1;32m---> 10\u001b[1;33m     \u001b[0mD\u001b[0m \u001b[1;33m=\u001b[0m \u001b[0mnp\u001b[0m\u001b[1;33m.\u001b[0m\u001b[0msum\u001b[0m\u001b[1;33m(\u001b[0m\u001b[1;33m(\u001b[0m\u001b[0mX\u001b[0m\u001b[1;33m[\u001b[0m\u001b[1;33m:\u001b[0m\u001b[1;33m,\u001b[0m \u001b[1;32mNone\u001b[0m\u001b[1;33m,\u001b[0m \u001b[1;33m:\u001b[0m\u001b[1;33m]\u001b[0m \u001b[1;33m-\u001b[0m \u001b[0mXtr\u001b[0m\u001b[1;33m[\u001b[0m\u001b[1;32mNone\u001b[0m\u001b[1;33m,\u001b[0m \u001b[1;33m:\u001b[0m\u001b[1;33m,\u001b[0m \u001b[1;33m:\u001b[0m\u001b[1;33m]\u001b[0m\u001b[1;33m)\u001b[0m\u001b[1;33m**\u001b[0m\u001b[1;36m2\u001b[0m\u001b[1;33m,\u001b[0m \u001b[0maxis\u001b[0m\u001b[1;33m=\u001b[0m\u001b[1;36m2\u001b[0m\u001b[1;33m)\u001b[0m\u001b[1;33m\u001b[0m\u001b[1;33m\u001b[0m\u001b[0m\n\u001b[0m\u001b[0;32m     11\u001b[0m \u001b[1;33m\u001b[0m\u001b[0m\n\u001b[0;32m     12\u001b[0m     \u001b[1;31m# Compute Kernel\u001b[0m\u001b[1;33m\u001b[0m\u001b[1;33m\u001b[0m\u001b[1;33m\u001b[0m\u001b[0m\n",
      "\u001b[1;31mTypeError\u001b[0m: list indices must be integers or slices, not tuple"
     ]
    }
   ],
   "source": [
    "alpha = [1, 1, 0]\n",
    "b = -0.5\n",
    "g = 0.2\n",
    "# we have distances calculated already.\n",
    "\n",
    "ytr = [1, 1, -1]\n",
    "\n",
    "def predict(Xtr, ytr, X, alpha, b, g):\n",
    "    # Compute Distances\n",
    "    D = np.sum((X[:, None, :] - Xtr[None, :, :])**2, axis=2)\n",
    "    \n",
    "    # Compute Kernel\n",
    "    K = np.where(np.max(0, (1-D*g)), 1, -1)\n",
    "    \n",
    "    # Compute Score\n",
    "    z = K.dot(ytr*alpha) + b\n",
    "    \n",
    "    # Compute Predicted Labels.\n",
    "    yhat = 2*(z > 0)-1\n",
    "    return yhat\n",
    "\n",
    "yhat = predict(xi_f, ytr, X, alpha, b, g)\n",
    "print(yhat)"
   ]
  },
  {
   "cell_type": "code",
   "execution_count": 29,
   "metadata": {},
   "outputs": [],
   "source": [
    "def predict(Wh ,bh, x, y):\n",
    "    # Hidden layer\n",
    "    zh = np.sum(Wh*x, axis=1) + bh\n",
    "    uh = np.maximum (0, zh)\n",
    "    \n",
    "    Wo, bo = lstsq(uh, y) # Solves the least squares problem uh.dot(beta) = y\n",
    "\n",
    "    return Wo, bo"
   ]
  },
  {
   "cell_type": "code",
   "execution_count": 30,
   "metadata": {},
   "outputs": [
    {
     "data": {
      "text/plain": [
       "(100, 200)"
      ]
     },
     "execution_count": 30,
     "metadata": {},
     "output_type": "execute_result"
    }
   ],
   "source": [
    "X = np.randm.normal(0, 1, (100, 200))\n",
    "X.shape"
   ]
  },
  {
   "cell_type": "code",
   "execution_count": 32,
   "metadata": {},
   "outputs": [
    {
     "data": {
      "text/plain": [
       "((100, 100), (100,), (100, 200))"
      ]
     },
     "execution_count": 32,
     "metadata": {},
     "output_type": "execute_result"
    }
   ],
   "source": [
    "# FULL SVD:\n",
    "U, s, Vtr = np.linalg.svd(X, full_matrices=False)\n",
    "U.shape, s.shape, Vtr.shape"
   ]
  },
  {
   "cell_type": "code",
   "execution_count": 41,
   "metadata": {},
   "outputs": [],
   "source": [
    "from scipy.sparse.linalg import svds\n",
    "\n",
    "u, s, v = svds(X, k=3)D"
   ]
  },
  {
   "cell_type": "code",
   "execution_count": 42,
   "metadata": {},
   "outputs": [
    {
     "data": {
      "text/plain": [
       "((100, 3), (3,), (3, 200))"
      ]
     },
     "execution_count": 42,
     "metadata": {},
     "output_type": "execute_result"
    }
   ],
   "source": [
    "u.shape, s.shape, v.shape"
   ]
  },
  {
   "cell_type": "code",
   "execution_count": 43,
   "metadata": {},
   "outputs": [],
   "source": [
    "def classify(X, pretrained):\n",
    "    # Pretrained is the classfier of 1000 image classes.\n",
    "    results = pretrained.predict(X)  # Returns logits for 1000 classes.\n",
    "    # Pick the class whose probability is highest, returns one of the 1000 classes.\n",
    "    z = results.argmax()      \n",
    "    # If returned class is 50, return 1(Bicycle found) or return 0\n",
    "    yhat = np.where(z==50, 1, 0)     "
   ]
  },
  {
   "cell_type": "code",
   "execution_count": 44,
   "metadata": {},
   "outputs": [],
   "source": [
    "def fit(Xtr, ytr, pretrained_base):\n",
    "    Z = pretrained_base.predict(Xtr)\n",
    "    reg = LogisticRegression()\n",
    "    # Adding one layer from the pretrained model\n",
    "    reg.fit(Z, ytr)\n",
    "    \n",
    "    return reg\n",
    "\n",
    "def predict(X, reg, pretrained_base):\n",
    "    Z = pretrained_base.predict(X)\n",
    "    # Uses pretrained model first and then adds\n",
    "    # a layer on the pretrained model into the reg\n",
    "    # and uses reg object to predict.\n",
    "    yhat = reg.predict(Z)\n",
    "    return yhat\n"
   ]
  },
  {
   "cell_type": "code",
   "execution_count": null,
   "metadata": {},
   "outputs": [],
   "source": [
    "def fit(Xtr, ytr, nc):\n",
    "    # Fit K means on the training data\n",
    "    km = KMeans(n_cluster=nc)\n",
    "    km.fit(Xtr)\n",
    "    return km\n",
    "\n",
    "def predict(X, Xtr, ytr, nc):\n",
    "    # Loop over clusters\n",
    "    reg = []\n",
    "    n = X.shape[0]\n",
    "    yhat[]\n",
    "    \n",
    "    for i in range(nc):\n",
    "        # Find indices in the cluster\n",
    "        Itr = np.where(x == i)[0]\n",
    "        \n",
    "        # Fit the Linear reg object \n",
    "        reg = LinearRegression()\n",
    "        reg.fit(Xtr[Itr, :], ytr[Itr])\n",
    "        \n",
    "        # Predict \n",
    "        yhati = reg.predict(X[Itr, :])\n",
    "        \n",
    "        yhat.append(yhati)\n",
    "    return yhat"
   ]
  }
 ],
 "metadata": {
  "kernelspec": {
   "display_name": "Python 3",
   "language": "python",
   "name": "python3"
  },
  "language_info": {
   "codemirror_mode": {
    "name": "ipython",
    "version": 3
   },
   "file_extension": ".py",
   "mimetype": "text/x-python",
   "name": "python",
   "nbconvert_exporter": "python",
   "pygments_lexer": "ipython3",
   "version": "3.8.3"
  }
 },
 "nbformat": 4,
 "nbformat_minor": 4
}
